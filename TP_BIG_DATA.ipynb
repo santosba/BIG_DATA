{
 "cells": [
  {
   "cell_type": "code",
   "execution_count": 2,
   "metadata": {},
   "outputs": [],
   "source": [
    "import os # OS e.g directory structure\n",
    "import numpy as np # linear algebra\n",
    "import scipy as sc  # scientific computing\n",
    "import pandas as pd # data processing, file I/O\n",
    "import seaborn as sns  # visualization\n",
    "import matplotlib.pyplot as plt # visualization\n",
    "import warnings\n",
    "warnings.filterwarnings(\"ignore\")"
   ]
  },
  {
   "cell_type": "code",
   "execution_count": 3,
   "metadata": {},
   "outputs": [],
   "source": [
    "\n",
    "import sys\n",
    "\n",
    "from pyspark.sql import SparkSession\n",
    "from pyspark.sql import Row\n",
    "from pyspark.sql.functions import *\n",
    "from pyspark.sql.types import *"
   ]
  },
  {
   "cell_type": "code",
   "execution_count": 4,
   "metadata": {},
   "outputs": [
    {
     "name": "stdout",
     "output_type": "stream",
     "text": [
      "total 22983760\n",
      "drwxr-xr-x  5 macbookpro  staff          160 11 Mai 09:45 \u001b[34m.\u001b[m\u001b[m\n",
      "drwxr-xr-x  6 macbookpro  staff          192  6 Mai 14:27 \u001b[34m..\u001b[m\u001b[m\n",
      "drwxr-xr-x  3 macbookpro  staff           96  7 Mai 00:31 \u001b[34m.ipynb_checkpoints\u001b[m\u001b[m\n",
      "-rw-r--r--  1 macbookpro  staff        14441 11 Mai 09:45 TP_BIG_DATA.ipynb\n",
      "-rw-rw-r--@ 1 macbookpro  staff  11764863851  1 Dez  2019 library-collection-inventory.csv\n",
      "BibNum,Title,Author,ISBN,PublicationYear,Publisher,Subjects,ItemType,ItemCollection,FloatingItem,ItemLocation,ReportDate,ItemCount\n",
      "3011076,\"A tale of two friends / adapted by Ellie O'Ryan ; illustrated by Tom Caulfield, Frederick Gardner, Megan Petasky, and Allen Tam.\",\"O'Ryan, Ellie\",\"1481425730, 1481425749, 9781481425735, 9781481425742\",2014.,\"Simon Spotlight,\",\"Musicians Fiction, Bullfighters Fiction, Best friends Fiction, Friendship Fiction, Adventure and adventurers Fiction\",jcbk,ncrdr,Floating,qna,2017-09-01T00:00:00.000,1\n",
      "2248846,\"Naruto. Vol. 1, Uzumaki Naruto / story and art by Masashi Kishimoto ; [English adaptation by Jo Duffy].\",\"Kishimoto, Masashi, 1974-\",1569319006,\"2003, c1999.\",\"Viz,\",\"Ninja Japan Comic books strips etc, Comic books strips etc Japan Translations into English, Graphic novels\",acbk,nycomic,NA,lcy,2017-09-01T00:00:00.000,1\n"
     ]
    }
   ],
   "source": [
    "\n",
    "! ls -la\n",
    "! head -n 3 library-collection-inventory.csv"
   ]
  },
  {
   "cell_type": "code",
   "execution_count": 7,
   "metadata": {
    "scrolled": true
   },
   "outputs": [],
   "source": [
    "from pyspark.sql.types import StructField, StructType, StringType, IntegerType, TimestampType, DoubleType\n",
    "\n",
    "fire_schema = StructType([StructField(\"BibNum\", IntegerType(),True),\n",
    "                             StructField(\"Title\", StringType(),True),\n",
    "                             StructField(\"Author\", StringType(),True),\n",
    "                             StructField(\"ISBN\", IntegerType(),True),\n",
    "                             StructField(\"PublicationYear\", IntegerType(),True),\n",
    "                             StructField(\"Publisher\", StringType(),True),\n",
    "                             StructField(\"Subjects\", StringType(),True),\n",
    "                             StructField(\"ItemType\", StringType(),True),\n",
    "                             StructField(\"ItemCollection\", StringType(),True),\n",
    "                             StructField(\"FloatingItem\", StringType(),True),\n",
    "                             StructField(\"ItemLocation\", StringType(),True),\n",
    "                             StructField(\"ReportDate\", TimestampType(),True),\n",
    "                             StructField(\"ItemCount\", IntegerType(),True)\n",
    "                            ])\n"
   ]
  },
  {
   "cell_type": "code",
   "execution_count": 8,
   "metadata": {},
   "outputs": [],
   "source": [
    "\n",
    "\n",
    "df = spark.read.csv('library-collection-inventory.csv',header=True, schema=fire_schema, sep=\",\")\n",
    "\n"
   ]
  },
  {
   "cell_type": "markdown",
   "metadata": {},
   "source": [
    "### Exploratory data analysis"
   ]
  },
  {
   "cell_type": "code",
   "execution_count": 9,
   "metadata": {},
   "outputs": [
    {
     "name": "stdout",
     "output_type": "stream",
     "text": [
      "root\n",
      " |-- BibNum: integer (nullable = true)\n",
      " |-- Title: string (nullable = true)\n",
      " |-- Author: string (nullable = true)\n",
      " |-- ISBN: integer (nullable = true)\n",
      " |-- PublicationYear: integer (nullable = true)\n",
      " |-- Publisher: string (nullable = true)\n",
      " |-- Subjects: string (nullable = true)\n",
      " |-- ItemType: string (nullable = true)\n",
      " |-- ItemCollection: string (nullable = true)\n",
      " |-- FloatingItem: string (nullable = true)\n",
      " |-- ItemLocation: string (nullable = true)\n",
      " |-- ReportDate: timestamp (nullable = true)\n",
      " |-- ItemCount: integer (nullable = true)\n",
      "\n"
     ]
    },
    {
     "data": {
      "text/plain": [
       "35531308"
      ]
     },
     "execution_count": 9,
     "metadata": {},
     "output_type": "execute_result"
    }
   ],
   "source": [
    "df.printSchema()\n",
    "cols = df.columns\n",
    "df.count()"
   ]
  },
  {
   "cell_type": "markdown",
   "metadata": {},
   "source": [
    "# Data cleaning\n",
    "\n",
    "\n"
   ]
  },
  {
   "cell_type": "code",
   "execution_count": 17,
   "metadata": {},
   "outputs": [
    {
     "name": "stdout",
     "output_type": "stream",
     "text": [
      "+--------------------+------------+----------+---------------+--------------------+-------+\n",
      "|              Author|ItemLocation|      ISBN|PublicationYear|               Title| BibNum|\n",
      "+--------------------+------------+----------+---------------+--------------------+-------+\n",
      "|      Heller, Steven|         cen| 714837989|           1999|Paul Rand / Steve...|1898806|\n",
      "|  Priestland, Gerald|         cen|   2151421|           1984|The case against ...| 397637|\n",
      "|   Sherrow, Victoria|         gwd|1575052466|           2000|Wilma Rudolph / b...|1931992|\n",
      "|Weinberg, Gerhard L.|         cen| 521474078|           1995|Germany, Hitler, ...|1588441|\n",
      "|Middleton, Thomas...|         cen| 719016304|           1987|The roaring girl ...|1738648|\n",
      "|     Halfmann, Janet|         wts|1583410767|           2001|Life in a tidepoo...|2002669|\n",
      "|    Hoobler, Dorothy|         net| 761312587|           2000|Vanity rules : a ...|1974714|\n",
      "|Joyce, James, 188...|         cen|1557133727|           1999|On Ibsen / James ...|1925107|\n",
      "|    Hoobler, Dorothy|         cen| 761312587|           2000|Vanity rules : a ...|1974714|\n",
      "|United States. Co...|         cen| 160356997|           1991|Futures Trading P...| 614784|\n",
      "|       Posener, Jill|         cen| 863581005|           1982|Spray it loud / J...| 477879|\n",
      "|       Guild, Tricia|         cen|1850298017|           1988|Design and detail...|1998734|\n",
      "|James, Chris (Chr...|         cap| 806998075|           1997|The complete serg...|1901766|\n",
      "|   Yee, Wong Herbert|         cen| 395689872|           1994|Fireman Small / [...|1693595|\n",
      "|   Stilton, Geronimo|         nga| 439691427|           2005|My name is Stilto...|2295030|\n",
      "|Abelard, Peter, 1...|         lcy| 140448993|           2003|The letters of Ab...|2285241|\n",
      "|International Jos...|         cen| 193152290|           1976|Josquin des Prez ...| 107244|\n",
      "|       Morse, Michal|         cen| 890241880|           1992|Build a doll's ho...|1385955|\n",
      "|     Ferguson, Clare|         cen|1841720887|           2000|Extra virgin : co...|2042808|\n",
      "|United States. Co...|         cen| 160446783|           1994|Hazardous materia...|1376096|\n",
      "+--------------------+------------+----------+---------------+--------------------+-------+\n",
      "only showing top 20 rows\n",
      "\n"
     ]
    }
   ],
   "source": [
    "df_1 = df.dropna(subset=[\"Author\",\"ItemLocation\",\"ReportDate\",\"ISBN\",\"PublicationYear\",\"Title\",\"Subjects\",\"ItemCollection\"])"
   ]
  },
  {
   "cell_type": "code",
   "execution_count": 19,
   "metadata": {},
   "outputs": [
    {
     "name": "stdout",
     "output_type": "stream",
     "text": [
      "+--------------------+------------+----------+---------------+--------------------+-------------------+\n",
      "|              Author|ItemLocation|      ISBN|PublicationYear|               Title|         ReportDate|\n",
      "+--------------------+------------+----------+---------------+--------------------+-------------------+\n",
      "|      Heller, Steven|         cen| 714837989|           1999|Paul Rand / Steve...|2017-09-01 00:00:00|\n",
      "|  Priestland, Gerald|         cen|   2151421|           1984|The case against ...|2017-09-01 00:00:00|\n",
      "|   Sherrow, Victoria|         gwd|1575052466|           2000|Wilma Rudolph / b...|2017-09-01 00:00:00|\n",
      "|Weinberg, Gerhard L.|         cen| 521474078|           1995|Germany, Hitler, ...|2017-09-01 00:00:00|\n",
      "|Middleton, Thomas...|         cen| 719016304|           1987|The roaring girl ...|2017-09-01 00:00:00|\n",
      "|     Halfmann, Janet|         wts|1583410767|           2001|Life in a tidepoo...|2017-09-01 00:00:00|\n",
      "|    Hoobler, Dorothy|         net| 761312587|           2000|Vanity rules : a ...|2017-09-01 00:00:00|\n",
      "|Joyce, James, 188...|         cen|1557133727|           1999|On Ibsen / James ...|2017-09-01 00:00:00|\n",
      "|    Hoobler, Dorothy|         cen| 761312587|           2000|Vanity rules : a ...|2017-09-01 00:00:00|\n",
      "|United States. Co...|         cen| 160356997|           1991|Futures Trading P...|2017-09-01 00:00:00|\n",
      "|       Posener, Jill|         cen| 863581005|           1982|Spray it loud / J...|2017-09-01 00:00:00|\n",
      "|       Guild, Tricia|         cen|1850298017|           1988|Design and detail...|2017-09-01 00:00:00|\n",
      "|James, Chris (Chr...|         cap| 806998075|           1997|The complete serg...|2017-09-01 00:00:00|\n",
      "|   Yee, Wong Herbert|         cen| 395689872|           1994|Fireman Small / [...|2017-09-01 00:00:00|\n",
      "|   Stilton, Geronimo|         nga| 439691427|           2005|My name is Stilto...|2017-09-01 00:00:00|\n",
      "|Abelard, Peter, 1...|         lcy| 140448993|           2003|The letters of Ab...|2017-09-01 00:00:00|\n",
      "|International Jos...|         cen| 193152290|           1976|Josquin des Prez ...|2017-09-01 00:00:00|\n",
      "|       Morse, Michal|         cen| 890241880|           1992|Build a doll's ho...|2017-09-01 00:00:00|\n",
      "|     Ferguson, Clare|         cen|1841720887|           2000|Extra virgin : co...|2017-09-01 00:00:00|\n",
      "|United States. Co...|         cen| 160446783|           1994|Hazardous materia...|2017-09-01 00:00:00|\n",
      "+--------------------+------------+----------+---------------+--------------------+-------------------+\n",
      "only showing top 20 rows\n",
      "\n"
     ]
    }
   ],
   "source": [
    "df_1.select(\"Author\",\"ItemLocation\",\"ISBN\",\"PublicationYear\",\"Title\",\"ReportDate\").show()"
   ]
  },
  {
   "cell_type": "code",
   "execution_count": 11,
   "metadata": {},
   "outputs": [],
   "source": [
    "max_row =5000\n",
    "\n",
    "df_clean = df_1.limit(max_row)"
   ]
  },
  {
   "cell_type": "code",
   "execution_count": 26,
   "metadata": {},
   "outputs": [
    {
     "name": "stdout",
     "output_type": "stream",
     "text": [
      "+-------+--------------------+--------------------+----------+---------------+--------------------+--------------------+--------+--------------+------------+------------+-------------------+---------+\n",
      "| BibNum|               Title|              Author|      ISBN|PublicationYear|           Publisher|            Subjects|ItemType|ItemCollection|FloatingItem|ItemLocation|         ReportDate|ItemCount|\n",
      "+-------+--------------------+--------------------+----------+---------------+--------------------+--------------------+--------+--------------+------------+------------+-------------------+---------+\n",
      "|1898806|Paul Rand / Steve...|      Heller, Steven| 714837989|           1999|            Phaidon,|Rand Paul 1914 19...|    arbk|          cs8r|          NA|         cen|2017-09-01 00:00:00|        1|\n",
      "| 397637|The case against ...|  Priestland, Gerald|   2151421|           1984|            Collins,|           God Proof|    acbk|          canf|          NA|         cen|2017-09-01 00:00:00|        1|\n",
      "|1931992|Wilma Rudolph / b...|   Sherrow, Victoria|1575052466|           2000|   Carolrhoda Books,|Rudolph Wilma 194...|    jcbk|          ncnf|          NA|         gwd|2017-09-01 00:00:00|        1|\n",
      "|1588441|Germany, Hitler, ...|Weinberg, Gerhard L.| 521474078|           1995|Cambridge Univers...|Hitler Adolf 1889...|    acbk|          canf|          NA|         cen|2017-09-01 00:00:00|        1|\n",
      "|1738648|The roaring girl ...|Middleton, Thomas...| 719016304|           1987|Manchester Univer...|Cutpurse Moll 158...|    acbk|          canf|          NA|         cen|2017-09-01 00:00:00|        1|\n",
      "|2002669|Life in a tidepoo...|     Halfmann, Janet|1583410767|           2001| Creative Education,|Tide pool animals...|    jcbk|          ncnf|          NA|         wts|2017-09-01 00:00:00|        1|\n",
      "|1974714|Vanity rules : a ...|    Hoobler, Dorothy| 761312587|           2000|    Millbrook Press,|Costume United St...|    jcbk|          ncnf|          NA|         net|2017-09-01 00:00:00|        1|\n",
      "|1925107|On Ibsen / James ...|Joyce, James, 188...|1557133727|           1999|      Green Integer,|Ibsen Henrik 1828...|    acbk|          canf|          NA|         cen|2017-09-01 00:00:00|        1|\n",
      "|1974714|Vanity rules : a ...|    Hoobler, Dorothy| 761312587|           2000|    Millbrook Press,|Costume United St...|    jcbk|          ccnf|          NA|         cen|2017-09-01 00:00:00|        1|\n",
      "| 614784|Futures Trading P...|United States. Co...| 160356997|           1991|U.S. G.P.O. : For...|United States Com...|    acbk|          canf|          NA|         cen|2017-09-01 00:00:00|        1|\n",
      "| 477879|Spray it loud / J...|       Posener, Jill| 863581005|           1982|Pandora ; Routled...|    Graffiti England|    acbk|          canf|          NA|         cen|2017-09-01 00:00:00|        1|\n",
      "|1998734|Design and detail...|       Guild, Tricia|1850298017|           1988|Conran Octopus ; ...|Interior decorati...|    acbk|          canf|          NA|         cen|2017-09-01 00:00:00|        1|\n",
      "|1901766|The complete serg...|James, Chris (Chr...| 806998075|           1997|Sterling ; distri...|Serging, Sewing m...|    acbk|          nanf|          NA|         cap|2017-09-01 00:00:00|        1|\n",
      "|1693595|Fireman Small / [...|   Yee, Wong Herbert| 395689872|           1994|   Houghton Mifflin,|Fire fighters Juv...|    jcbk|         ccpic|          NA|         cen|2017-09-01 00:00:00|        1|\n",
      "|2295030|My name is Stilto...|   Stilton, Geronimo| 439691427|           2005|   Scholastic, Inc.,|Stilton Geronimo ...|    jcbk|         ncser|          NA|         nga|2017-09-01 00:00:00|        1|\n",
      "|2285241|The letters of Ab...|Abelard, Peter, 1...| 140448993|           2003|            Penguin,|Theologians Franc...|    acbk|          nanf|          NA|         lcy|2017-09-01 00:00:00|        1|\n",
      "| 107244|Josquin des Prez ...|International Jos...| 193152290|           1976|Oxford University...|Josquin des Prez ...|    acbk|          canf|          NA|         cen|2017-09-01 00:00:00|        1|\n",
      "|1385955|Build a doll's ho...|       Morse, Michal| 890241880|           1992|     Kalmbach Books,|          Dollhouses|    acbk|          canf|          NA|         cen|2017-09-01 00:00:00|        2|\n",
      "|2042808|Extra virgin : co...|     Ferguson, Clare|1841720887|           2000|Ryland Peters & S...|Olive oil, Cookin...|    acbk|          canf|          NA|         cen|2017-09-01 00:00:00|        1|\n",
      "|1376096|Hazardous materia...|United States. Co...| 160446783|           1994|U.S. G.P.O. : For...|Hazardous substan...|    acbk|          canf|          NA|         cen|2017-09-01 00:00:00|        1|\n",
      "+-------+--------------------+--------------------+----------+---------------+--------------------+--------------------+--------+--------------+------------+------------+-------------------+---------+\n",
      "only showing top 20 rows\n",
      "\n"
     ]
    }
   ],
   "source": [
    "df_clean.show()\n",
    "\n",
    "df_clean.createOrReplaceTempView(\"library\")"
   ]
  },
  {
   "cell_type": "code",
   "execution_count": null,
   "metadata": {},
   "outputs": [],
   "source": [
    "sql = spark.sql(\"\"\"\n",
    "                 select Author, ISBN\n",
    "                from library \n",
    "                where \n",
    "               \n",
    "               \"\"\"\n",
    "               )"
   ]
  },
  {
   "cell_type": "code",
   "execution_count": 20,
   "metadata": {},
   "outputs": [],
   "source": [
    "col_to_drop = ['ItemCount','FloatingItem','BibNum','ReportDate']"
   ]
  },
  {
   "cell_type": "code",
   "execution_count": 23,
   "metadata": {},
   "outputs": [],
   "source": [
    "cols_feactures = [c for c in cols if c not in col_to_drop]\n",
    "col_interesting = ['ISBN','PublicationYear']"
   ]
  },
  {
   "cell_type": "code",
   "execution_count": 22,
   "metadata": {},
   "outputs": [
    {
     "data": {
      "text/plain": [
       "['Title',\n",
       " 'Author',\n",
       " 'ISBN',\n",
       " 'PublicationYear',\n",
       " 'Publisher',\n",
       " 'Subjects',\n",
       " 'ItemType',\n",
       " 'ItemCollection',\n",
       " 'ItemLocation']"
      ]
     },
     "execution_count": 22,
     "metadata": {},
     "output_type": "execute_result"
    }
   ],
   "source": [
    "cols_feactures"
   ]
  },
  {
   "cell_type": "code",
   "execution_count": 25,
   "metadata": {},
   "outputs": [
    {
     "data": {
      "text/plain": [
       "[[1.0, 0.12758359452724763], [0.12758359452724763, 1.0]]"
      ]
     },
     "execution_count": 25,
     "metadata": {},
     "output_type": "execute_result"
    }
   ],
   "source": [
    "from pyspark.ml.stat import Correlation\n",
    "from pyspark.ml.feature import VectorAssembler\n",
    "\n",
    "# Correlation requires vectors so prior we convert to vector column\n",
    "\n",
    "vector_col = \"corr_features\"\n",
    "assembler = VectorAssembler(inputCols=col_interesting, outputCol=vector_col)\n",
    "df_vector = assembler.transform(df_clean).select(vector_col)\n",
    "\n",
    "# get correlation matrix\n",
    "\n",
    "matrix = Correlation.corr(df_vector, vector_col).collect()[0][0]\n",
    "corrmatrix = matrix.toArray().tolist()\n",
    "# corrmatrix\n",
    "corrmatrix"
   ]
  },
  {
   "cell_type": "code",
   "execution_count": null,
   "metadata": {},
   "outputs": [],
   "source": []
  }
 ],
 "metadata": {
  "kernelspec": {
   "display_name": "Python 3",
   "language": "python",
   "name": "python3"
  },
  "language_info": {
   "codemirror_mode": {
    "name": "ipython",
    "version": 3
   },
   "file_extension": ".py",
   "mimetype": "text/x-python",
   "name": "python",
   "nbconvert_exporter": "python",
   "pygments_lexer": "ipython3",
   "version": "3.8.5"
  }
 },
 "nbformat": 4,
 "nbformat_minor": 4
}
