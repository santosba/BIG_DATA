{
 "cells": [
  {
   "cell_type": "code",
   "execution_count": 1,
   "metadata": {},
   "outputs": [],
   "source": [
    "import os # OS e.g directory structure\n",
    "import numpy as np # linear algebra\n",
    "import scipy as sc  # scientific computing\n",
    "import pandas as pd # data processing, file I/O\n",
    "import seaborn as sns  # visualization\n",
    "import matplotlib.pyplot as plt # visualization\n",
    "import warnings\n",
    "warnings.filterwarnings(\"ignore\")"
   ]
  },
  {
   "cell_type": "code",
   "execution_count": 32,
   "metadata": {},
   "outputs": [],
   "source": [
    "\n",
    "import sys\n",
    "\n",
    "from pyspark.sql import SparkSession\n",
    "from pyspark.sql import Row\n",
    "from pyspark.sql.functions import *\n",
    "from pyspark.sql.types import *\n",
    "from pyspark.ml.stat import Correlation\n",
    "from pyspark.ml.feature import VectorAssembler,OneHotEncoder,StringIndexer,VectorIndexer\n",
    "from pyspark.ml.classification import LogisticRegression\n",
    "import matplotlib.pyplot as plt\n",
    "from pyspark.ml import Pipeline\n",
    "import numpy as np\n",
    "from pyspark.ml.classification import DecisionTreeClassifier\n",
    "from pyspark.ml.evaluation import MulticlassClassificationEvaluator\n",
    "from pyspark.ml.classification import LinearSVC\n",
    "from pyspark.ml.classification import RandomForestClassifier"
   ]
  },
  {
   "cell_type": "code",
   "execution_count": 3,
   "metadata": {},
   "outputs": [
    {
     "name": "stdout",
     "output_type": "stream",
     "text": [
      "total 22983768\n",
      "drwxr-xr-x  5 macbookpro  staff          160 21 Mai 12:17 \u001b[34m.\u001b[m\u001b[m\n",
      "drwxr-xr-x  6 macbookpro  staff          192  6 Mai 14:27 \u001b[34m..\u001b[m\u001b[m\n",
      "drwxr-xr-x  3 macbookpro  staff           96  7 Mai 00:31 \u001b[34m.ipynb_checkpoints\u001b[m\u001b[m\n",
      "-rw-r--r--@ 1 macbookpro  staff        16991 21 Mai 12:17 TP_BIG_DATA.ipynb\n",
      "-rw-rw-r--@ 1 macbookpro  staff  11764863851  1 Dez  2019 library-collection-inventory.csv\n",
      "BibNum,Title,Author,ISBN,PublicationYear,Publisher,Subjects,ItemType,ItemCollection,FloatingItem,ItemLocation,ReportDate,ItemCount\n",
      "3011076,\"A tale of two friends / adapted by Ellie O'Ryan ; illustrated by Tom Caulfield, Frederick Gardner, Megan Petasky, and Allen Tam.\",\"O'Ryan, Ellie\",\"1481425730, 1481425749, 9781481425735, 9781481425742\",2014.,\"Simon Spotlight,\",\"Musicians Fiction, Bullfighters Fiction, Best friends Fiction, Friendship Fiction, Adventure and adventurers Fiction\",jcbk,ncrdr,Floating,qna,2017-09-01T00:00:00.000,1\n",
      "2248846,\"Naruto. Vol. 1, Uzumaki Naruto / story and art by Masashi Kishimoto ; [English adaptation by Jo Duffy].\",\"Kishimoto, Masashi, 1974-\",1569319006,\"2003, c1999.\",\"Viz,\",\"Ninja Japan Comic books strips etc, Comic books strips etc Japan Translations into English, Graphic novels\",acbk,nycomic,NA,lcy,2017-09-01T00:00:00.000,1\n"
     ]
    }
   ],
   "source": [
    "\n",
    "! ls -la\n",
    "! head -n 3 library-collection-inventory.csv"
   ]
  },
  {
   "cell_type": "code",
   "execution_count": 4,
   "metadata": {
    "scrolled": true
   },
   "outputs": [],
   "source": [
    "from pyspark.sql.types import StructField, StructType, StringType, IntegerType, TimestampType, DoubleType,ArrayType\n",
    "\n",
    "fire_schema = StructType([StructField(\"BibNum\", IntegerType(),True),\n",
    "                             StructField(\"Title\", StringType(),True),\n",
    "                             StructField(\"Author\", StringType(),True),\n",
    "                             StructField(\"ISBN\", IntegerType(),True),\n",
    "                             StructField(\"PublicationYear\", IntegerType(),True),\n",
    "                             StructField(\"Publisher\", StringType(),True),\n",
    "                             StructField(\"Subjects\", StringType(), True),\n",
    "                             StructField(\"ItemType\", StringType(),True),\n",
    "                             StructField(\"ItemCollection\", StringType(),True),\n",
    "                             StructField(\"FloatingItem\", StringType(),True),\n",
    "                             StructField(\"ItemLocation\", StringType(),True),\n",
    "                             StructField(\"ReportDate\", TimestampType(),True),\n",
    "                             StructField(\"ItemCount\", IntegerType(),True)\n",
    "                            ])\n"
   ]
  },
  {
   "cell_type": "code",
   "execution_count": 5,
   "metadata": {},
   "outputs": [],
   "source": [
    "\n",
    "\n",
    "df = spark.read.csv('library-collection-inventory.csv',header=True, schema=fire_schema, sep=\",\")\n",
    "\n"
   ]
  },
  {
   "cell_type": "markdown",
   "metadata": {},
   "source": [
    "### Exploratory data analysis"
   ]
  },
  {
   "cell_type": "code",
   "execution_count": 6,
   "metadata": {},
   "outputs": [
    {
     "name": "stdout",
     "output_type": "stream",
     "text": [
      "root\n",
      " |-- BibNum: integer (nullable = true)\n",
      " |-- Title: string (nullable = true)\n",
      " |-- Author: string (nullable = true)\n",
      " |-- ISBN: integer (nullable = true)\n",
      " |-- PublicationYear: integer (nullable = true)\n",
      " |-- Publisher: string (nullable = true)\n",
      " |-- Subjects: string (nullable = true)\n",
      " |-- ItemType: string (nullable = true)\n",
      " |-- ItemCollection: string (nullable = true)\n",
      " |-- FloatingItem: string (nullable = true)\n",
      " |-- ItemLocation: string (nullable = true)\n",
      " |-- ReportDate: timestamp (nullable = true)\n",
      " |-- ItemCount: integer (nullable = true)\n",
      "\n"
     ]
    },
    {
     "data": {
      "text/plain": [
       "35531308"
      ]
     },
     "execution_count": 6,
     "metadata": {},
     "output_type": "execute_result"
    }
   ],
   "source": [
    "df.printSchema()\n",
    "cols = df.columns\n",
    "df.count()"
   ]
  },
  {
   "cell_type": "markdown",
   "metadata": {},
   "source": [
    "# Data cleaning\n",
    "\n",
    "\n"
   ]
  },
  {
   "cell_type": "code",
   "execution_count": 7,
   "metadata": {},
   "outputs": [],
   "source": [
    "df_1 = df.dropna(subset=[\"Author\",\"Publisher\"])"
   ]
  },
  {
   "cell_type": "code",
   "execution_count": 8,
   "metadata": {},
   "outputs": [],
   "source": [
    "df_1 = df_1.na.fill({'PublicationYear':0,'Subjects':'unknown',\n",
    "                     'ItemType':'no_type','ItemCollection':'no_collection'})"
   ]
  },
  {
   "cell_type": "code",
   "execution_count": null,
   "metadata": {},
   "outputs": [],
   "source": [
    "#df_1.select('PublicationYear','Subjects','ItemType').where(col('PublicationYear')>0).show()"
   ]
  },
  {
   "cell_type": "code",
   "execution_count": 9,
   "metadata": {},
   "outputs": [
    {
     "data": {
      "text/plain": [
       "10000"
      ]
     },
     "execution_count": 9,
     "metadata": {},
     "output_type": "execute_result"
    }
   ],
   "source": [
    "max_row =10000\n",
    "\n",
    "df_clean = df_1.limit(max_row)\n",
    "\n",
    "df_clean.count()"
   ]
  },
  {
   "cell_type": "markdown",
   "metadata": {},
   "source": [
    "### Data Trasformation and extraction"
   ]
  },
  {
   "cell_type": "code",
   "execution_count": 10,
   "metadata": {},
   "outputs": [],
   "source": [
    "\n",
    "def transformToIndex(inputArr, data):\n",
    "    indexer=None \n",
    "    for col_in, col_out in inputArr.items():\n",
    "        \n",
    "        indexer = StringIndexer(inputCol=col_in, outputCol=col_out)\n",
    "        data = indexer.fit(data).transform(data)\n",
    "        \n",
    "        # converçao para int \n",
    "        #data = data.withColumn(col_out, data[col_out].cast(IntegerType()))\n",
    "    return data\n",
    "col_to_trasform = {\n",
    "                   'Author':'AuthorIndex', \n",
    "                   'Publisher':'PublisherIndex',\n",
    "                   'ItemCollection': 'ItemCollectionIndex',\n",
    "                    'Subjects':'SubjectIndex',\n",
    "                    'ItemType':'ItemTypeIndex'\n",
    "                   }\n",
    "#'Author':'AuthorIndex', 'Publisher':'PublisherIndex','ItemCollection': 'ItemCollectionIndex'"
   ]
  },
  {
   "cell_type": "code",
   "execution_count": 11,
   "metadata": {},
   "outputs": [],
   "source": [
    "df_clean = transformToIndex(col_to_trasform,df_clean)"
   ]
  },
  {
   "cell_type": "markdown",
   "metadata": {},
   "source": [
    "transformToIndex(col_to_trasform,df_clean)"
   ]
  },
  {
   "cell_type": "code",
   "execution_count": 12,
   "metadata": {},
   "outputs": [
    {
     "name": "stdout",
     "output_type": "stream",
     "text": [
      "root\n",
      " |-- BibNum: integer (nullable = true)\n",
      " |-- Title: string (nullable = true)\n",
      " |-- Author: string (nullable = true)\n",
      " |-- ISBN: integer (nullable = true)\n",
      " |-- PublicationYear: integer (nullable = false)\n",
      " |-- Publisher: string (nullable = true)\n",
      " |-- Subjects: string (nullable = false)\n",
      " |-- ItemType: string (nullable = false)\n",
      " |-- ItemCollection: string (nullable = false)\n",
      " |-- FloatingItem: string (nullable = true)\n",
      " |-- ItemLocation: string (nullable = true)\n",
      " |-- ReportDate: timestamp (nullable = true)\n",
      " |-- ItemCount: integer (nullable = true)\n",
      " |-- AuthorIndex: double (nullable = false)\n",
      " |-- PublisherIndex: double (nullable = false)\n",
      " |-- ItemCollectionIndex: double (nullable = false)\n",
      " |-- SubjectIndex: double (nullable = false)\n",
      " |-- ItemTypeIndex: double (nullable = false)\n",
      "\n"
     ]
    }
   ],
   "source": [
    "df_clean.printSchema()\n"
   ]
  },
  {
   "cell_type": "markdown",
   "metadata": {},
   "source": [
    "### Tratamento da Variavel Preditora "
   ]
  },
  {
   "cell_type": "code",
   "execution_count": 13,
   "metadata": {},
   "outputs": [
    {
     "name": "stdout",
     "output_type": "stream",
     "text": [
      "+-----------+-------------------+--------------+------------+-------------+\n",
      "|AuthorIndex|ItemCollectionIndex|PublisherIndex|SubjectIndex|ItemTypeIndex|\n",
      "+-----------+-------------------+--------------+------------+-------------+\n",
      "|     5797.0|               13.0|          27.0|      5569.0|          1.0|\n",
      "|      107.0|               12.0|         493.0|       261.0|          0.0|\n",
      "|      912.0|               12.0|         193.0|      2691.0|          0.0|\n",
      "|     2020.0|                7.0|        1565.0|      3907.0|          0.0|\n",
      "|      243.0|               29.0|         867.0|      5033.0|          0.0|\n",
      "|     5834.0|               75.0|         343.0|      7818.0|          0.0|\n",
      "|     3053.0|                1.0|           9.0|      2122.0|          0.0|\n",
      "|      861.0|                7.0|           7.0|      3286.0|          0.0|\n",
      "|     2750.0|               17.0|        3422.0|      6177.0|          1.0|\n",
      "|     5136.0|                3.0|         556.0|       605.0|          0.0|\n",
      "|     7413.0|                1.0|        3631.0|      6015.0|          0.0|\n",
      "|     4416.0|                1.0|         189.0|      3310.0|          0.0|\n",
      "|       18.0|               28.0|         900.0|      3666.0|          0.0|\n",
      "|     1824.0|               16.0|        1563.0|      1054.0|          0.0|\n",
      "|     4274.0|               11.0|        1475.0|      4774.0|          0.0|\n",
      "|     4283.0|               39.0|         221.0|       842.0|          0.0|\n",
      "|     5397.0|               32.0|         252.0|       918.0|          0.0|\n",
      "|      537.0|               17.0|           8.0|      2583.0|          1.0|\n",
      "|     1706.0|                6.0|          20.0|      3922.0|          1.0|\n",
      "|     6150.0|               24.0|          24.0|      7005.0|          1.0|\n",
      "+-----------+-------------------+--------------+------------+-------------+\n",
      "only showing top 20 rows\n",
      "\n"
     ]
    }
   ],
   "source": [
    "data = df_clean.select(\n",
    "\"AuthorIndex\",\"ItemCollectionIndex\"\n",
    "    ,\"PublisherIndex\",'SubjectIndex','ItemTypeIndex')\n",
    "data.show()"
   ]
  },
  {
   "cell_type": "code",
   "execution_count": 14,
   "metadata": {},
   "outputs": [],
   "source": [
    "col_to_drop = ['ItemCount','FloatingItem','ReportDate']"
   ]
  },
  {
   "cell_type": "code",
   "execution_count": 15,
   "metadata": {},
   "outputs": [],
   "source": [
    "cols_feactures = [c for c in cols if c not in col_to_drop]\n",
    "col_interesting = ['PublisherIndex','AuthorIndex','ItemCollectionIndex','SubjectIndex','ItemTypeIndex']"
   ]
  },
  {
   "cell_type": "code",
   "execution_count": 16,
   "metadata": {},
   "outputs": [
    {
     "data": {
      "text/plain": [
       "[[1.0,\n",
       "  0.1672540728248159,\n",
       "  0.027107451895807187,\n",
       "  -0.017328209317955437,\n",
       "  0.17044476272755527],\n",
       " [0.1672540728248159,\n",
       "  1.0,\n",
       "  -0.05300057754256645,\n",
       "  0.0774286616240817,\n",
       "  -0.032258727678151126],\n",
       " [0.027107451895807187,\n",
       "  -0.05300057754256645,\n",
       "  1.0,\n",
       "  0.007499562129496555,\n",
       "  0.3569697237184988],\n",
       " [-0.017328209317955437,\n",
       "  0.0774286616240817,\n",
       "  0.007499562129496555,\n",
       "  1.0,\n",
       "  -0.06838643844895669],\n",
       " [0.17044476272755527,\n",
       "  -0.032258727678151126,\n",
       "  0.3569697237184988,\n",
       "  -0.06838643844895669,\n",
       "  1.0]]"
      ]
     },
     "execution_count": 16,
     "metadata": {},
     "output_type": "execute_result"
    }
   ],
   "source": [
    "# Correlation requires vectors so prior we convert to vector column\n",
    "vector_col = \"corr_features\"\n",
    "assembler = VectorAssembler(inputCols=col_interesting, outputCol=vector_col)\n",
    "df_vector = assembler.transform(df_clean).select(vector_col)\n",
    "\n",
    "# get correlation matrix\n",
    "\n",
    "matrix = Correlation.corr(df_vector, vector_col).collect()[0][0]\n",
    "corrmatrix = matrix.toArray().tolist()\n",
    "# corrmatrix\n",
    "corrmatrix"
   ]
  },
  {
   "cell_type": "code",
   "execution_count": 25,
   "metadata": {},
   "outputs": [],
   "source": [
    "\n",
    "def ScatterPlot(df, width, height):\n",
    "    plt.figure(figsize=(width, height))\n",
    "    plt.pcolor(df)\n",
    "    plt.yticks(np.arange(0.5, len(df.index), 1), df.index)\n",
    "    plt.xticks(np.arange(0.5, len(df.columns), 1), df.columns)\n",
    "    plt.show()\n"
   ]
  },
  {
   "cell_type": "code",
   "execution_count": 26,
   "metadata": {},
   "outputs": [],
   "source": [
    "df_plot = pd.DataFrame(data=corrmatrix)"
   ]
  },
  {
   "cell_type": "code",
   "execution_count": 27,
   "metadata": {},
   "outputs": [
    {
     "data": {
      "image/png": "[encoded data removed]",
      "text/plain": [
       "<Figure size 1440x1440 with 1 Axes>"
      ]
     },
     "metadata": {
      "needs_background": "light"
     },
     "output_type": "display_data"
    }
   ],
   "source": [
    "ScatterPlot(df_plot, 20, 20)"
   ]
  },
  {
   "cell_type": "code",
   "execution_count": 21,
   "metadata": {},
   "outputs": [
    {
     "name": "stdout",
     "output_type": "stream",
     "text": [
      "training data rows: 7109 ; testing data row: 2891\n"
     ]
    }
   ],
   "source": [
    "divideData = data.randomSplit([0.7,0.3])\n",
    "trainingData = divideData[0]\n",
    "testingData = divideData[1]\n",
    "train_rows = trainingData.count()\n",
    "test_row = testingData.count()\n",
    "print(\"training data rows:\", train_rows, \"; testing data row:\", test_row)"
   ]
  },
  {
   "cell_type": "code",
   "execution_count": 45,
   "metadata": {},
   "outputs": [
    {
     "name": "stdout",
     "output_type": "stream",
     "text": [
      "+-------------+-----+\n",
      "|features     |label|\n",
      "+-------------+-----+\n",
      "|[0.0,4.0,3.0]|0.0  |\n",
      "|[0.0,4.0,3.0]|0.0  |\n",
      "+-------------+-----+\n",
      "only showing top 2 rows\n",
      "\n"
     ]
    }
   ],
   "source": [
    "assembler = VectorAssembler(inputCols=[\"AuthorIndex\",\"PublisherIndex\",\"ItemCollectionIndex\"], outputCol=\"features\")\n",
    "\n",
    "traiDataFinal = assembler.transform(trainingData).select(col(\"features\"),col('ItemTypeIndex').alias('label'))\n",
    "traiDataFinal.show(truncate=False,n=2)"
   ]
  },
  {
   "cell_type": "markdown",
   "metadata": {},
   "source": [
    "### Classifier our model "
   ]
  },
  {
   "cell_type": "code",
   "execution_count": 46,
   "metadata": {},
   "outputs": [
    {
     "name": "stdout",
     "output_type": "stream",
     "text": [
      "classifier Model is trained\n"
     ]
    }
   ],
   "source": [
    "#define our classifier\n",
    "classifier = LogisticRegression(labelCol=\"label\", featuresCol=\"features\",maxIter=10,regParam=0.3)\n",
    "#train our classifier\n",
    "model= classifier.fit(traiDataFinal)\n",
    "print(\"classifier Model is trained\")"
   ]
  },
  {
   "cell_type": "code",
   "execution_count": 51,
   "metadata": {},
   "outputs": [
    {
     "ename": "AttributeError",
     "evalue": "'LogisticRegressionTrainingSummary' object has no attribute 'roc'",
     "output_type": "error",
     "traceback": [
      "\u001b[0;31m---------------------------------------------------------------------------\u001b[0m",
      "\u001b[0;31mAttributeError\u001b[0m                            Traceback (most recent call last)",
      "\u001b[0;32m<ipython-input-51-293e18d2d9a0>\u001b[0m in \u001b[0;36m<module>\u001b[0;34m\u001b[0m\n\u001b[1;32m      1\u001b[0m \u001b[0mtrainingSummary\u001b[0m \u001b[0;34m=\u001b[0m \u001b[0mmodel\u001b[0m\u001b[0;34m.\u001b[0m\u001b[0msummary\u001b[0m\u001b[0;34m\u001b[0m\u001b[0;34m\u001b[0m\u001b[0m\n\u001b[0;32m----> 2\u001b[0;31m \u001b[0mroc\u001b[0m \u001b[0;34m=\u001b[0m \u001b[0mtrainingSummary\u001b[0m\u001b[0;34m.\u001b[0m\u001b[0mroc\u001b[0m\u001b[0;34m.\u001b[0m\u001b[0mtoPandas\u001b[0m\u001b[0;34m(\u001b[0m\u001b[0;34m)\u001b[0m\u001b[0;34m\u001b[0m\u001b[0;34m\u001b[0m\u001b[0m\n\u001b[0m\u001b[1;32m      3\u001b[0m \u001b[0mplt\u001b[0m\u001b[0;34m.\u001b[0m\u001b[0mplot\u001b[0m\u001b[0;34m(\u001b[0m\u001b[0mroc\u001b[0m\u001b[0;34m[\u001b[0m\u001b[0;34m'FPR'\u001b[0m\u001b[0;34m]\u001b[0m\u001b[0;34m,\u001b[0m\u001b[0mroc\u001b[0m\u001b[0;34m[\u001b[0m\u001b[0;34m'TPR'\u001b[0m\u001b[0;34m]\u001b[0m\u001b[0;34m)\u001b[0m\u001b[0;34m\u001b[0m\u001b[0;34m\u001b[0m\u001b[0m\n\u001b[1;32m      4\u001b[0m \u001b[0mplt\u001b[0m\u001b[0;34m.\u001b[0m\u001b[0mylabel\u001b[0m\u001b[0;34m(\u001b[0m\u001b[0;34m'False Positive Rate'\u001b[0m\u001b[0;34m)\u001b[0m\u001b[0;34m\u001b[0m\u001b[0;34m\u001b[0m\u001b[0m\n\u001b[1;32m      5\u001b[0m \u001b[0mplt\u001b[0m\u001b[0;34m.\u001b[0m\u001b[0mxlabel\u001b[0m\u001b[0;34m(\u001b[0m\u001b[0;34m'True Positive Rate'\u001b[0m\u001b[0;34m)\u001b[0m\u001b[0;34m\u001b[0m\u001b[0;34m\u001b[0m\u001b[0m\n",
      "\u001b[0;31mAttributeError\u001b[0m: 'LogisticRegressionTrainingSummary' object has no attribute 'roc'"
     ]
    }
   ],
   "source": [
    "trainingSummary = model.summary\n",
    "roc = trainingSummary.roc.toPandas()\n",
    "plt.plot(roc['FPR'],roc['TPR'])\n",
    "plt.ylabel('False Positive Rate')\n",
    "plt.xlabel('True Positive Rate')\n",
    "plt.title('ROC Curve')\n",
    "plt.show()\n",
    "print('Training set areaUnderROC: ' + str(trainingSummary.areaUnderROC))"
   ]
  },
  {
   "cell_type": "code",
   "execution_count": 47,
   "metadata": {},
   "outputs": [
    {
     "name": "stdout",
     "output_type": "stream",
     "text": [
      "+-----------------+---------+\n",
      "|         features|trueLabel|\n",
      "+-----------------+---------+\n",
      "|    [0.0,4.0,3.0]|      0.0|\n",
      "|    [0.0,4.0,6.0]|      1.0|\n",
      "|   [0.0,45.0,6.0]|      1.0|\n",
      "|  [0.0,64.0,35.0]|      2.0|\n",
      "|  [0.0,64.0,35.0]|      2.0|\n",
      "|[0.0,2514.0,36.0]|      1.0|\n",
      "| [0.0,163.0,39.0]|      0.0|\n",
      "|  [0.0,64.0,53.0]|      4.0|\n",
      "| [0.0,524.0,53.0]|      4.0|\n",
      "|    [1.0,8.0,6.0]|      1.0|\n",
      "|    [1.0,8.0,6.0]|      1.0|\n",
      "|   [1.0,8.0,44.0]|      1.0|\n",
      "|   [1.0,8.0,44.0]|      1.0|\n",
      "|  [2.0,16.0,13.0]|      1.0|\n",
      "|   [2.0,8.0,17.0]|      1.0|\n",
      "|   [2.0,8.0,17.0]|      1.0|\n",
      "|   [2.0,8.0,17.0]|      1.0|\n",
      "|  [2.0,16.0,17.0]|      1.0|\n",
      "|  [2.0,16.0,17.0]|      1.0|\n",
      "|   [2.0,8.0,44.0]|      1.0|\n",
      "+-----------------+---------+\n",
      "only showing top 20 rows\n",
      "\n"
     ]
    }
   ],
   "source": [
    "testingDataFinal = assembler.transform(testingData).select(col(\"features\"),col(\"ItemTypeIndex\").alias('trueLabel'))\n",
    "testingDataFinal.show()"
   ]
  },
  {
   "cell_type": "markdown",
   "metadata": {},
   "source": [
    "### Predict the testing data using our Trained Model"
   ]
  },
  {
   "cell_type": "code",
   "execution_count": 48,
   "metadata": {},
   "outputs": [
    {
     "name": "stdout",
     "output_type": "stream",
     "text": [
      "+--------------+----------+--------------------------------------------------------------------------------------------------------------------------------------------------------------------------------------------------------------------------------------------------------------------------------------------------------------------------------------------------------------------------------------------------------------------------------------------------------------------------------------------------------------------------------------------------------------------------------------------------------------------------------------------------------------------------------------------------------------------------------------------------------+---------+\n",
      "|features      |prediction|probability                                                                                                                                                                                                                                                                                                                                                                                                                                                                                                                                                                                                                                                                                                                                             |trueLabel|\n",
      "+--------------+----------+--------------------------------------------------------------------------------------------------------------------------------------------------------------------------------------------------------------------------------------------------------------------------------------------------------------------------------------------------------------------------------------------------------------------------------------------------------------------------------------------------------------------------------------------------------------------------------------------------------------------------------------------------------------------------------------------------------------------------------------------------------+---------+\n",
      "|[0.0,4.0,3.0] |0.0       |[0.5151161552758783,0.34931812129491624,0.06606586917817661,0.04792663502735456,0.007488117981541621,0.005483457731693618,7.172350670464469E-4,7.163124226527602E-4,8.372042288285457E-4,5.975433834290215E-4,3.582288481315056E-4,2.3890863956518176E-4,3.5849089027725393E-4,3.583235218766625E-4,2.3891028735812728E-4,1.1941326559728606E-4,2.3887753434616296E-4,2.388783808281223E-4,2.3890544522391278E-4,2.3888052127727272E-4,2.3887981291957763E-4,2.3888107783337728E-4,2.3888061478955568E-4,2.388810914551357E-4,1.1941326559728606E-4,1.1941326559728606E-4,2.3891405084415797E-4,2.389143901207468E-4,2.3891358056997889E-4,2.3891646886059256E-4,2.388818861839505E-4,2.3888189776008248E-4,2.3887983524007784E-4,2.3887983622945162E-4]|0.0      |\n",
      "|[0.0,4.0,6.0] |0.0       |[0.5085550958747197,0.3531090813994663,0.06718749680611423,0.04915753740567712,0.007669686171024683,0.005583929431210103,7.291034462149332E-4,7.270312063990288E-4,8.515680132063084E-4,6.07241496190764E-4,3.636603875141798E-4,2.4263070406244065E-4,3.6421988212440417E-4,3.6386884721636336E-4,2.4263495210805836E-4,1.2123040387345092E-4,2.4257060865380333E-4,2.4257233082518678E-4,2.4262913057977812E-4,2.425770882351637E-4,2.4257293385655527E-4,2.4257424322377853E-4,2.4257461031109212E-4,2.4257425729912763E-4,1.2123040387345092E-4,1.2123040387345092E-4,2.4264308376901566E-4,2.42645128247276E-4,2.4264344352745E-4,2.4264812694763823E-4,2.4257592632681641E-4,2.4257593829966304E-4,2.4257295700477434E-4,2.4257295802389734E-4]   |1.0      |\n",
      "|[0.0,45.0,6.0]|0.0       |[0.5088777786625232,0.3519097494000732,0.06755470580696345,0.049592641242027946,0.0076955999697046786,0.005605010846949861,7.31432873002434E-4,7.293658618828147E-4,8.542080940286304E-4,6.091349285509576E-4,3.647849452513481E-4,2.4338132292847178E-4,3.6535365252084065E-4,3.649895185368861E-4,2.4338950757713993E-4,1.2160706294354617E-4,2.4332494305028034E-4,2.4332669172061412E-4,2.433836666163159E-4,2.4333143808092888E-4,2.4333710939293556E-4,2.4332865937421206E-4,2.4333878395127318E-4,2.433285889703478E-4,1.2160706294354617E-4,1.2160706294354617E-4,2.4339769486199004E-4,2.4340952237174014E-4,2.434078536000264E-4,2.4340276041934518E-4,2.433303440774031E-4,2.433302750813265E-4,2.433369247883682E-4,2.4333692229005444E-4]  |1.0      |\n",
      "+--------------+----------+--------------------------------------------------------------------------------------------------------------------------------------------------------------------------------------------------------------------------------------------------------------------------------------------------------------------------------------------------------------------------------------------------------------------------------------------------------------------------------------------------------------------------------------------------------------------------------------------------------------------------------------------------------------------------------------------------------------------------------------------------------+---------+\n",
      "only showing top 3 rows\n",
      "\n"
     ]
    }
   ],
   "source": [
    "prediction = model.transform(testingDataFinal)\n",
    "predictionFinal = prediction.select(\"features\",\"prediction\",\"probability\",\"trueLabel\")\n",
    "predictionFinal.show(truncate=False,n=3)"
   ]
  },
  {
   "cell_type": "markdown",
   "metadata": {},
   "source": [
    "\n",
    "## Calculate our model Performance"
   ]
  },
  {
   "cell_type": "code",
   "execution_count": 49,
   "metadata": {},
   "outputs": [
    {
     "name": "stdout",
     "output_type": "stream",
     "text": [
      "Correct Prediction: 1612 , Total Data: 2891 , accuracy: 0.5575925285368385\n"
     ]
    }
   ],
   "source": [
    "correctPrediction = predictionFinal.filter(predictionFinal['prediction']== predictionFinal['trueLabel']).count()\n",
    "\n",
    "totalData = predictionFinal.count()\n",
    "print(\"Correct Prediction:\", correctPrediction, \", Total Data:\", totalData,\n",
    "     \", accuracy:\", correctPrediction/totalData)"
   ]
  },
  {
   "cell_type": "code",
   "execution_count": 44,
   "metadata": {},
   "outputs": [
    {
     "name": "stdout",
     "output_type": "stream",
     "text": [
      "+--------------------+----------+--------------------+---------+\n",
      "|            features|prediction|         probability|trueLabel|\n",
      "+--------------------+----------+--------------------+---------+\n",
      "| [0.0,4.0,3.0,279.0]|       0.0|[0.47565155370511...|      0.0|\n",
      "|[0.0,4.0,6.0,5300.0]|       0.0|[0.51134233693509...|      1.0|\n",
      "|[0.0,45.0,6.0,124.0]|       0.0|[0.46835765167595...|      1.0|\n",
      "|[0.0,64.0,35.0,24...|       0.0|[0.40868849092576...|      2.0|\n",
      "|[0.0,64.0,35.0,23...|       0.0|[0.42568880643653...|      2.0|\n",
      "|[0.0,2514.0,36.0,...|       0.0|[0.47743186257874...|      1.0|\n",
      "|[0.0,163.0,39.0,9...|       0.0|[0.40682046478219...|      0.0|\n",
      "|[0.0,64.0,53.0,81...|       0.0|[0.43531780934393...|      4.0|\n",
      "|[0.0,524.0,53.0,1...|       1.0|[0.38646121431850...|      4.0|\n",
      "| [1.0,8.0,6.0,336.0]|       0.0|[0.46984397512063...|      1.0|\n",
      "|[1.0,8.0,6.0,7639.0]|       0.0|[0.53063606768898...|      1.0|\n",
      "|[1.0,8.0,44.0,526...|       0.0|[0.43068718100075...|      1.0|\n",
      "|[1.0,8.0,44.0,527...|       0.0|[0.43078515977931...|      1.0|\n",
      "|[2.0,16.0,13.0,29...|       0.0|[0.47708681336275...|      1.0|\n",
      "|[2.0,8.0,17.0,170.0]|       0.0|[0.44526247763036...|      1.0|\n",
      "|[2.0,8.0,17.0,295...|       0.0|[0.46857112051890...|      1.0|\n",
      "|[2.0,8.0,17.0,295...|       0.0|[0.46862958936314...|      1.0|\n",
      "|[2.0,16.0,17.0,29...|       0.0|[0.46863298363777...|      1.0|\n",
      "|[2.0,16.0,17.0,85...|       0.0|[0.51468934225317...|      1.0|\n",
      "|[2.0,8.0,44.0,295...|       0.0|[0.41189844922750...|      1.0|\n",
      "+--------------------+----------+--------------------+---------+\n",
      "only showing top 20 rows\n",
      "\n"
     ]
    }
   ],
   "source": [
    "predictionFinal.show()"
   ]
  },
  {
   "cell_type": "code",
   "execution_count": null,
   "metadata": {},
   "outputs": [],
   "source": []
  }
 ],
 "metadata": {
  "kernelspec": {
   "display_name": "Python 3",
   "language": "python",
   "name": "python3"
  },
  "language_info": {
   "codemirror_mode": {
    "name": "ipython",
    "version": 3
   },
   "file_extension": ".py",
   "mimetype": "text/x-python",
   "name": "python",
   "nbconvert_exporter": "python",
   "pygments_lexer": "ipython3",
   "version": "3.8.5"
  }
 },
 "nbformat": 4,
 "nbformat_minor": 4
}
